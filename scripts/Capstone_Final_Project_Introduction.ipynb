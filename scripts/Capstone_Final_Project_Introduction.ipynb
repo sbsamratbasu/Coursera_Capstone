{
 "cells": [
  {
   "cell_type": "markdown",
   "metadata": {},
   "source": [
    "# Capstone Project — The Battle of Neighborhoods (Week 1)\n",
    "\n",
    "\n",
    "A Visual Approach to determine Strategic Locations for Masks and Medical Devices Distribution for COVID-19 treatment based on confirmed cases on May 28,2020 at red zone areas to measure “new normal” readiness\n",
    "By S.Basu\n",
    "Applied Data Science Capstone by IBM/Coursera\n",
    "Table of contents\n",
    "Introduction: Business Problem\n",
    "  Data\n",
    "  \n",
    "    Methodology\n",
    "    Results and Discussion\n",
    "    Conclusion\n",
    "Introduction: Business Problem\n",
    "\n",
    "Since the beginning of 2020, Jakarta and many other cities around the world have been under attack by an invisible army called ‘Novel Corona Virus’, also known as ‘Covid-19’. Every effort has been focusing on solving or minimizing problems, including Data Scientists. Data Scientists assessed the situations in places around the world, such as availability, amount, and geographical distribution (i.e. locations) of health infrastructures, such as virus testing centers and authorized hospitals to treat affected patients. In this article, we would like to present a simple analysis for determining strategic locations for the distribution of masks and medical devices for COVID-19 treatment, based on confirmed cases on May 28, 2020, and the red zone areas for “new normal” condition analysis.\n",
    "Data\n",
    "A few Identified factors that influence our decision are:\n",
    "Covid-19 cases per district “Riwayat File Covid-19 DKI Jakarta”\n",
    "Total population in DKI Jakarta 2020 statistik.jakarta.go.id\n",
    "10 most population in DKI Jakarta 2020 per district statistik.jakarta.go.id\n",
    "Hospital for treatment covid-19 megapolitan.kompas.com\n",
    "The following data sources are needed to extract/generate the required information:\n",
    "Processed covid-19 positive case data collection on 28 May 2020 At 09.00.\n",
    "The distribution of mask sales based on the population in the DKI Jakarta area.\n",
    "The distribution of mask sales based on 5 districts with the most densely populated populations.\n",
    "New datasets (to be created) from Hospital table that contains city, district, along with their latitudes and longitudes."
   ]
  },
  {
   "cell_type": "code",
   "execution_count": null,
   "metadata": {},
   "outputs": [],
   "source": []
  }
 ],
 "metadata": {
  "kernelspec": {
   "display_name": "Python 3",
   "language": "python",
   "name": "python3"
  },
  "language_info": {
   "codemirror_mode": {
    "name": "ipython",
    "version": 3
   },
   "file_extension": ".py",
   "mimetype": "text/x-python",
   "name": "python",
   "nbconvert_exporter": "python",
   "pygments_lexer": "ipython3",
   "version": "3.8.5"
  }
 },
 "nbformat": 4,
 "nbformat_minor": 4
}
